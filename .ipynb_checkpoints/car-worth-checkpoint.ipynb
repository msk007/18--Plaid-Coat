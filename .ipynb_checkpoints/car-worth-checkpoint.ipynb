{
 "cells": [
  {
   "cell_type": "code",
   "execution_count": 1,
   "metadata": {
    "collapsed": true
   },
   "outputs": [],
   "source": [
    "import pandas as pd\n",
    "import matplotlib.pyplot as plt\n",
    "import numpy as np\n",
    "from sklearn import linear_model\n",
    "from sklearn.pipeline import Pipeline\n",
    "import itertools\n",
    "\n",
    "%matplotlib inline"
   ]
  },
  {
   "cell_type": "markdown",
   "metadata": {},
   "source": [
    "# How Much is Your Car Worth?\n",
    "\n",
    "Data about the retail price of 2005 General Motors cars can be found in `car_data.csv`.\n",
    "\n",
    "The columns are:\n",
    "\n",
    "1. Price: suggested retail price of the used 2005 GM car in excellent condition.\n",
    "2. Mileage: number of miles the car has been driven\n",
    "3. Make: manufacturer of the car such as Saturn, Pontiac, and Chevrolet\n",
    "4. Model: specific models for each car manufacturer such as Ion, Vibe, Cavalier\n",
    "5. Trim (of car): specific type of car model such as SE Sedan 4D, Quad Coupe 2D          \n",
    "6. Type: body type such as sedan, coupe, etc.      \n",
    "7. Cylinder: number of cylinders in the engine        \n",
    "8. Liter: a more specific measure of engine size     \n",
    "9. Doors: number of doors           \n",
    "10. Cruise: indicator variable representing whether the car has cruise control (1 = cruise)\n",
    "11. Sound: indicator variable representing whether the car has upgraded speakers (1 = upgraded)\n",
    "12. Leather: indicator variable representing whether the car has leather seats (1 = leather)\n",
    "\n",
    "## Tasks, Part 1\n",
    "\n",
    "1. Find the linear regression equation for mileage vs price.\n",
    "2. Chart the original data and the equation on the chart.\n",
    "3. Find the equation's $R^2$ score (use the `.score` method) to determine whether the\n",
    "equation is a good fit for this data. (0.8 and greater is considered a strong correlation.)\n",
    "\n",
    "## Tasks, Part 2\n",
    "\n",
    "1. Use mileage, cylinders, liters, doors, cruise, sound, and leather to find the linear regression equation.\n",
    "2. Find the equation's $R^2$ score (use the `.score` method) to determine whether the\n",
    "equation is a good fit for this data. (0.8 and greater is considered a strong correlation.)\n",
    "3. Find the combination of the factors that is the best predictor for price.\n",
    "\n",
    "## Tasks, Part 3\n",
    "\n",
    "1. Research dummy variables in scikit-learn to see how to use the make, model, and body type.\n",
    "2. Find the best combination of factors to predict price."
   ]
  },
  {
   "cell_type": "code",
   "execution_count": 2,
   "metadata": {
    "collapsed": false
   },
   "outputs": [],
   "source": [
    "df = pd.read_csv(\"car_data.csv\")"
   ]
  },
  {
   "cell_type": "code",
   "execution_count": 3,
   "metadata": {
    "collapsed": false
   },
   "outputs": [
    {
     "data": {
      "text/html": [
       "<div>\n",
       "<table border=\"1\" class=\"dataframe\">\n",
       "  <thead>\n",
       "    <tr style=\"text-align: right;\">\n",
       "      <th></th>\n",
       "      <th>Price</th>\n",
       "      <th>Mileage</th>\n",
       "      <th>Make</th>\n",
       "      <th>Model</th>\n",
       "      <th>Trim</th>\n",
       "      <th>Type</th>\n",
       "      <th>Cylinder</th>\n",
       "      <th>Liter</th>\n",
       "      <th>Doors</th>\n",
       "      <th>Cruise</th>\n",
       "      <th>Sound</th>\n",
       "      <th>Leather</th>\n",
       "    </tr>\n",
       "  </thead>\n",
       "  <tbody>\n",
       "    <tr>\n",
       "      <th>0</th>\n",
       "      <td>17314.103129</td>\n",
       "      <td>8221</td>\n",
       "      <td>Buick</td>\n",
       "      <td>Century</td>\n",
       "      <td>Sedan 4D</td>\n",
       "      <td>Sedan</td>\n",
       "      <td>6</td>\n",
       "      <td>3.1</td>\n",
       "      <td>4</td>\n",
       "      <td>1</td>\n",
       "      <td>1</td>\n",
       "      <td>1</td>\n",
       "    </tr>\n",
       "    <tr>\n",
       "      <th>1</th>\n",
       "      <td>17542.036083</td>\n",
       "      <td>9135</td>\n",
       "      <td>Buick</td>\n",
       "      <td>Century</td>\n",
       "      <td>Sedan 4D</td>\n",
       "      <td>Sedan</td>\n",
       "      <td>6</td>\n",
       "      <td>3.1</td>\n",
       "      <td>4</td>\n",
       "      <td>1</td>\n",
       "      <td>1</td>\n",
       "      <td>0</td>\n",
       "    </tr>\n",
       "    <tr>\n",
       "      <th>2</th>\n",
       "      <td>16218.847862</td>\n",
       "      <td>13196</td>\n",
       "      <td>Buick</td>\n",
       "      <td>Century</td>\n",
       "      <td>Sedan 4D</td>\n",
       "      <td>Sedan</td>\n",
       "      <td>6</td>\n",
       "      <td>3.1</td>\n",
       "      <td>4</td>\n",
       "      <td>1</td>\n",
       "      <td>1</td>\n",
       "      <td>0</td>\n",
       "    </tr>\n",
       "    <tr>\n",
       "      <th>3</th>\n",
       "      <td>16336.913140</td>\n",
       "      <td>16342</td>\n",
       "      <td>Buick</td>\n",
       "      <td>Century</td>\n",
       "      <td>Sedan 4D</td>\n",
       "      <td>Sedan</td>\n",
       "      <td>6</td>\n",
       "      <td>3.1</td>\n",
       "      <td>4</td>\n",
       "      <td>1</td>\n",
       "      <td>0</td>\n",
       "      <td>0</td>\n",
       "    </tr>\n",
       "    <tr>\n",
       "      <th>4</th>\n",
       "      <td>16339.170324</td>\n",
       "      <td>19832</td>\n",
       "      <td>Buick</td>\n",
       "      <td>Century</td>\n",
       "      <td>Sedan 4D</td>\n",
       "      <td>Sedan</td>\n",
       "      <td>6</td>\n",
       "      <td>3.1</td>\n",
       "      <td>4</td>\n",
       "      <td>1</td>\n",
       "      <td>0</td>\n",
       "      <td>1</td>\n",
       "    </tr>\n",
       "  </tbody>\n",
       "</table>\n",
       "</div>"
      ],
      "text/plain": [
       "          Price  Mileage   Make    Model      Trim   Type  Cylinder  Liter  \\\n",
       "0  17314.103129     8221  Buick  Century  Sedan 4D  Sedan         6    3.1   \n",
       "1  17542.036083     9135  Buick  Century  Sedan 4D  Sedan         6    3.1   \n",
       "2  16218.847862    13196  Buick  Century  Sedan 4D  Sedan         6    3.1   \n",
       "3  16336.913140    16342  Buick  Century  Sedan 4D  Sedan         6    3.1   \n",
       "4  16339.170324    19832  Buick  Century  Sedan 4D  Sedan         6    3.1   \n",
       "\n",
       "   Doors  Cruise  Sound  Leather  \n",
       "0      4       1      1        1  \n",
       "1      4       1      1        0  \n",
       "2      4       1      1        0  \n",
       "3      4       1      0        0  \n",
       "4      4       1      0        1  "
      ]
     },
     "execution_count": 3,
     "metadata": {},
     "output_type": "execute_result"
    }
   ],
   "source": [
    "df.head()"
   ]
  },
  {
   "cell_type": "markdown",
   "metadata": {},
   "source": [
    "# Part One"
   ]
  },
  {
   "cell_type": "code",
   "execution_count": 4,
   "metadata": {
    "collapsed": false
   },
   "outputs": [
    {
     "name": "stdout",
     "output_type": "stream",
     "text": [
      "Price [[-0.1725205]] * Mileage + [ 24764.55900606]\n"
     ]
    }
   ],
   "source": [
    "input_data = np.array(df[['Mileage']])\n",
    "output_data = np.array(df[['Price']])\n",
    "regr1 = linear_model.LinearRegression()\n",
    "regr1.fit(input_data, output_data)\n",
    "print('Price', regr1.coef_, '* Mileage +', regr1.intercept_)"
   ]
  },
  {
   "cell_type": "code",
   "execution_count": 5,
   "metadata": {
    "collapsed": false
   },
   "outputs": [
    {
     "data": {
      "image/png": "[encoded data removed]",
      "text/plain": [
       "<matplotlib.figure.Figure at 0x10937fa58>"
      ]
     },
     "metadata": {},
     "output_type": "display_data"
    }
   ],
   "source": [
    "plt.scatter(input_data, output_data)\n",
    "plt.plot(input_data, regr1.predict(input_data))\n",
    "plt.ylabel('price')\n",
    "plt.xlabel('mileage')\n",
    "plt.title('Mileage vs. Price')\n",
    "plt.show()"
   ]
  },
  {
   "cell_type": "code",
   "execution_count": 6,
   "metadata": {
    "collapsed": false
   },
   "outputs": [
    {
     "data": {
      "text/plain": [
       "0.020463447323489481"
      ]
     },
     "execution_count": 6,
     "metadata": {},
     "output_type": "execute_result"
    }
   ],
   "source": [
    "regr1.score(input_data, output_data)\n",
    "\n"
   ]
  },
  {
   "cell_type": "markdown",
   "metadata": {},
   "source": [
    "### There is not a strong correlation between mileage and price."
   ]
  },
  {
   "cell_type": "markdown",
   "metadata": {},
   "source": [
    "## Part Two"
   ]
  },
  {
   "cell_type": "code",
   "execution_count": 7,
   "metadata": {
    "collapsed": false
   },
   "outputs": [],
   "source": []
  },
  {
   "cell_type": "code",
   "execution_count": 13,
   "metadata": {
    "collapsed": false
   },
   "outputs": [
    {
     "name": "stdout",
     "output_type": "stream",
     "text": [
      "Price = -0.169747832333 * Mileage + 6758.7551436\n",
      "3792.37893078 * Cylinder + 6758.7551436\n",
      "-787.220731634 * Liter + 6758.7551436\n",
      "-1542.74584638 * Doors + 6758.7551436\n",
      "6288.99714985 * Cruise + 6758.7551436\n",
      "-1993.7952757 * Sound + 6758.7551436\n",
      "3349.36161961 * Leather + 6758.7551436\n"
     ]
    }
   ],
   "source": [
    "cols=['Mileage', 'Cylinder', 'Liter', 'Doors', 'Cruise', 'Sound', 'Leather']\n",
    "in2=np.array(df[cols])\n",
    "out2=np.array(df[['Price']])\n",
    "regr2=linear_model.LinearRegression()\n",
    "regr2.fit(in2, out2)\n",
    "print('Price =', end=' ')\n",
    "for x in range(7):\n",
    "    print(regr2.coef_[0][x], '*', cols[x],'+', end=' ')\n",
    "    print(*regr2.intercept_)"
   ]
  },
  {
   "cell_type": "code",
   "execution_count": 14,
   "metadata": {
    "collapsed": false
   },
   "outputs": [
    {
     "data": {
      "text/plain": [
       "0.4462643536728379"
      ]
     },
     "execution_count": 14,
     "metadata": {},
     "output_type": "execute_result"
    }
   ],
   "source": [
    "regr2.score(in2, out2)"
   ]
  },
  {
   "cell_type": "code",
   "execution_count": 18,
   "metadata": {
    "collapsed": false
   },
   "outputs": [],
   "source": [
    "combos = [list(itertools.combinations(cols, sz)) for sz in range(1, 7)]\n",
    "combos = list(itertools.chain.from_iterable(combos))\n",
    "dub_combo = [list(x) for x in combos]"
   ]
  },
  {
   "cell_type": "code",
   "execution_count": 25,
   "metadata": {
    "collapsed": false
   },
   "outputs": [],
   "source": [
    "regr = [linear_model.LinearRegression() \\\n",
    "         .fit(np.array(df[cols]),np.array(df[['Price']]))\n",
    "         for cols in combo_combo]\n",
    "sort_score = sorted(list(zip(combo_combo, regr)),key=lambda x: \n",
    "                    x[1].score(np.array(df[x[0]]), \n",
    "                               np.array(df[['Price']])), \n",
    "                    reverse=True)\n"
   ]
  },
  {
   "cell_type": "code",
   "execution_count": 29,
   "metadata": {
    "collapsed": false
   },
   "outputs": [
    {
     "name": "stdout",
     "output_type": "stream",
     "text": [
      "0.4457\n",
      "0.4378\n",
      "0.4369\n",
      "0.4301\n",
      "0.43\n",
      "0.4265\n",
      "0.4258\n",
      "0.4248\n",
      "0.4244\n",
      "0.4241\n",
      "0.4225\n",
      "0.4225\n",
      "0.4197\n",
      "0.4191\n",
      "0.4188\n",
      "0.4178\n",
      "0.4165\n",
      "0.414\n",
      "0.4107\n",
      "0.4107\n",
      "0.4068\n",
      "0.4065\n",
      "0.4062\n",
      "0.4051\n",
      "0.4046\n",
      "0.4038\n",
      "0.4038\n",
      "0.4035\n",
      "0.4031\n",
      "0.4026\n",
      "0.4024\n",
      "0.4009\n",
      "0.4002\n",
      "0.3965\n",
      "0.3956\n",
      "0.3935\n",
      "0.3935\n",
      "0.3879\n",
      "0.3875\n",
      "0.3873\n",
      "0.3867\n",
      "0.3841\n",
      "0.3839\n",
      "0.3827\n",
      "0.3826\n",
      "0.3822\n",
      "0.3762\n",
      "0.3731\n",
      "0.3714\n",
      "0.3713\n",
      "0.368\n",
      "0.3677\n",
      "0.3675\n",
      "0.3653\n",
      "0.3652\n",
      "0.3651\n",
      "0.3633\n",
      "0.3628\n",
      "0.3601\n",
      "0.36\n",
      "0.3549\n",
      "0.3547\n",
      "0.3547\n",
      "0.3536\n",
      "0.353\n",
      "0.3504\n",
      "0.3503\n",
      "0.3494\n",
      "0.3489\n",
      "0.3483\n",
      "0.3481\n",
      "0.346\n",
      "0.3458\n",
      "0.3442\n",
      "0.3435\n",
      "0.3435\n",
      "0.3423\n",
      "0.3411\n",
      "0.3398\n",
      "0.3386\n",
      "0.3385\n",
      "0.3375\n",
      "0.337\n",
      "0.3351\n",
      "0.3318\n",
      "0.3313\n",
      "0.3295\n",
      "0.3293\n",
      "0.3291\n",
      "0.3259\n",
      "0.3239\n",
      "0.3234\n",
      "0.3205\n",
      "0.3193\n",
      "0.3115\n",
      "0.2728\n",
      "0.2594\n",
      "0.2567\n",
      "0.2474\n",
      "0.2448\n",
      "0.2346\n",
      "0.2334\n",
      "0.2323\n",
      "0.2239\n",
      "0.221\n",
      "0.2172\n",
      "0.2093\n",
      "0.2084\n",
      "0.1996\n",
      "0.1929\n",
      "0.1856\n",
      "0.0893\n",
      "0.0697\n",
      "0.0669\n",
      "0.0626\n",
      "0.0593\n",
      "0.048\n",
      "0.0452\n",
      "0.0414\n",
      "0.0404\n",
      "0.037\n",
      "0.0369\n",
      "0.0247\n",
      "0.0205\n",
      "0.0193\n",
      "0.0155\n"
     ]
    }
   ],
   "source": [
    "\n",
    "\n",
    "for x in sort_score[:]:\n",
    "    print(str(round(x[1].score(np.array(df[x[0]]), np.array(df[['Price']])), 4))\n"
   ]
  },
  {
   "cell_type": "code",
   "execution_count": 30,
   "metadata": {
    "collapsed": false
   },
   "outputs": [
    {
     "name": "stdout",
     "output_type": "stream",
     "text": [
      "0.4457 ['Mileage', 'Cylinder', 'Doors', 'Cruise', 'Sound', 'Leather']\n",
      "0.4378 ['Mileage', 'Cylinder', 'Liter', 'Doors', 'Cruise', 'Leather']\n",
      "0.4369 ['Mileage', 'Cylinder', 'Doors', 'Cruise', 'Leather']\n",
      "0.4301 ['Mileage', 'Cylinder', 'Liter', 'Cruise', 'Sound', 'Leather']\n",
      "0.4300 ['Mileage', 'Cylinder', 'Cruise', 'Sound', 'Leather']\n",
      "0.4265 ['Cylinder', 'Liter', 'Doors', 'Cruise', 'Sound', 'Leather']\n",
      "0.4258 ['Cylinder', 'Doors', 'Cruise', 'Sound', 'Leather']\n",
      "0.4248 ['Mileage', 'Liter', 'Doors', 'Cruise', 'Sound', 'Leather']\n",
      "0.4244 ['Mileage', 'Cylinder', 'Liter', 'Doors', 'Cruise', 'Sound']\n",
      "0.4241 ['Mileage', 'Cylinder', 'Doors', 'Cruise', 'Sound']\n",
      "0.4225 ['Mileage', 'Cylinder', 'Liter', 'Cruise', 'Leather']\n",
      "0.4225 ['Mileage', 'Cylinder', 'Cruise', 'Leather']\n",
      "0.4197 ['Mileage', 'Cylinder', 'Liter', 'Doors', 'Cruise']\n",
      "0.4191 ['Mileage', 'Cylinder', 'Doors', 'Cruise']\n",
      "0.4188 ['Cylinder', 'Liter', 'Doors', 'Cruise', 'Leather']\n",
      "0.4178 ['Cylinder', 'Doors', 'Cruise', 'Leather']\n",
      "0.4165 ['Mileage', 'Liter', 'Cruise', 'Sound', 'Leather']\n",
      "0.4140 ['Mileage', 'Liter', 'Doors', 'Cruise', 'Leather']\n",
      "0.4107 ['Cylinder', 'Liter', 'Cruise', 'Sound', 'Leather']\n",
      "0.4107 ['Cylinder', 'Cruise', 'Sound', 'Leather']\n",
      "0.4068 ['Mileage', 'Liter', 'Cruise', 'Leather']\n",
      "0.4065 ['Mileage', 'Cylinder', 'Liter', 'Cruise', 'Sound']\n",
      "0.4062 ['Mileage', 'Cylinder', 'Cruise', 'Sound']\n",
      "0.4051 ['Cylinder', 'Liter', 'Doors', 'Cruise', 'Sound']\n",
      "0.4046 ['Cylinder', 'Doors', 'Cruise', 'Sound']\n",
      "0.4038 ['Cylinder', 'Liter', 'Cruise', 'Leather']\n",
      "0.4038 ['Cylinder', 'Cruise', 'Leather']\n",
      "0.4035 ['Liter', 'Doors', 'Cruise', 'Sound', 'Leather']\n",
      "0.4031 ['Mileage', 'Liter', 'Doors', 'Cruise', 'Sound']\n",
      "0.4026 ['Mileage', 'Cylinder', 'Liter', 'Cruise']\n",
      "0.4024 ['Mileage', 'Cylinder', 'Cruise']\n",
      "0.4009 ['Cylinder', 'Liter', 'Doors', 'Cruise']\n",
      "0.4002 ['Cylinder', 'Doors', 'Cruise']\n",
      "0.3965 ['Mileage', 'Liter', 'Doors', 'Cruise']\n",
      "0.3956 ['Liter', 'Cruise', 'Sound', 'Leather']\n",
      "0.3935 ['Mileage', 'Liter', 'Cruise', 'Sound']\n",
      "0.3935 ['Liter', 'Doors', 'Cruise', 'Leather']\n",
      "0.3879 ['Mileage', 'Liter', 'Cruise']\n",
      "0.3875 ['Cylinder', 'Liter', 'Cruise', 'Sound']\n",
      "0.3873 ['Cylinder', 'Cruise', 'Sound']\n",
      "0.3867 ['Liter', 'Cruise', 'Leather']\n",
      "0.3841 ['Cylinder', 'Liter', 'Cruise']\n",
      "0.3839 ['Cylinder', 'Cruise']\n",
      "0.3827 ['Mileage', 'Cylinder', 'Liter', 'Doors', 'Sound', 'Leather']\n",
      "0.3826 ['Mileage', 'Cylinder', 'Doors', 'Sound', 'Leather']\n",
      "0.3822 ['Liter', 'Doors', 'Cruise', 'Sound']\n",
      "0.3762 ['Liter', 'Doors', 'Cruise']\n",
      "0.3731 ['Liter', 'Cruise', 'Sound']\n",
      "0.3714 ['Mileage', 'Cylinder', 'Liter', 'Doors', 'Leather']\n",
      "0.3713 ['Mileage', 'Cylinder', 'Doors', 'Leather']\n",
      "0.3680 ['Liter', 'Cruise']\n",
      "0.3677 ['Mileage', 'Cylinder', 'Liter', 'Doors', 'Sound']\n",
      "0.3675 ['Mileage', 'Cylinder', 'Doors', 'Sound']\n",
      "0.3653 ['Mileage', 'Cylinder', 'Liter', 'Sound', 'Leather']\n",
      "0.3652 ['Cylinder', 'Liter', 'Doors', 'Sound', 'Leather']\n",
      "0.3651 ['Cylinder', 'Doors', 'Sound', 'Leather']\n",
      "0.3633 ['Mileage', 'Liter', 'Doors', 'Sound', 'Leather']\n",
      "0.3628 ['Mileage', 'Cylinder', 'Sound', 'Leather']\n",
      "0.3601 ['Mileage', 'Cylinder', 'Liter', 'Doors']\n",
      "0.3600 ['Mileage', 'Cylinder', 'Doors']\n",
      "0.3549 ['Mileage', 'Cylinder', 'Liter', 'Leather']\n",
      "0.3547 ['Cylinder', 'Liter', 'Doors', 'Leather']\n",
      "0.3547 ['Cylinder', 'Doors', 'Leather']\n",
      "0.3536 ['Mileage', 'Liter', 'Sound', 'Leather']\n",
      "0.3530 ['Mileage', 'Cylinder', 'Leather']\n",
      "0.3504 ['Cylinder', 'Liter', 'Doors', 'Sound']\n",
      "0.3503 ['Cylinder', 'Doors', 'Sound']\n",
      "0.3494 ['Mileage', 'Liter', 'Doors', 'Leather']\n",
      "0.3489 ['Mileage', 'Cylinder', 'Liter', 'Sound']\n",
      "0.3483 ['Mileage', 'Liter', 'Doors', 'Sound']\n",
      "0.3481 ['Cylinder', 'Liter', 'Sound', 'Leather']\n",
      "0.3460 ['Cylinder', 'Sound', 'Leather']\n",
      "0.3458 ['Mileage', 'Cylinder', 'Sound']\n",
      "0.3442 ['Liter', 'Doors', 'Sound', 'Leather']\n",
      "0.3435 ['Cylinder', 'Liter', 'Doors']\n",
      "0.3435 ['Cylinder', 'Doors']\n",
      "0.3423 ['Mileage', 'Cylinder', 'Liter']\n",
      "0.3411 ['Mileage', 'Liter', 'Leather']\n",
      "0.3398 ['Mileage', 'Cylinder']\n",
      "0.3386 ['Mileage', 'Liter', 'Doors']\n",
      "0.3385 ['Cylinder', 'Liter', 'Leather']\n",
      "0.3375 ['Mileage', 'Liter', 'Sound']\n",
      "0.3370 ['Cylinder', 'Leather']\n",
      "0.3351 ['Liter', 'Sound', 'Leather']\n",
      "0.3318 ['Cylinder', 'Liter', 'Sound']\n",
      "0.3313 ['Liter', 'Doors', 'Leather']\n",
      "0.3295 ['Liter', 'Doors', 'Sound']\n",
      "0.3293 ['Cylinder', 'Sound']\n",
      "0.3291 ['Mileage', 'Liter']\n",
      "0.3259 ['Cylinder', 'Liter']\n",
      "0.3239 ['Cylinder']\n",
      "0.3234 ['Liter', 'Leather']\n",
      "0.3205 ['Liter', 'Doors']\n",
      "0.3193 ['Liter', 'Sound']\n",
      "0.3115 ['Liter']\n",
      "0.2728 ['Mileage', 'Doors', 'Cruise', 'Sound', 'Leather']\n",
      "0.2594 ['Mileage', 'Cruise', 'Sound', 'Leather']\n",
      "0.2567 ['Mileage', 'Doors', 'Cruise', 'Leather']\n",
      "0.2474 ['Doors', 'Cruise', 'Sound', 'Leather']\n",
      "0.2448 ['Mileage', 'Cruise', 'Leather']\n",
      "0.2346 ['Cruise', 'Sound', 'Leather']\n",
      "0.2334 ['Mileage', 'Doors', 'Cruise', 'Sound']\n",
      "0.2323 ['Doors', 'Cruise', 'Leather']\n",
      "0.2239 ['Mileage', 'Doors', 'Cruise']\n",
      "0.2210 ['Cruise', 'Leather']\n",
      "0.2172 ['Mileage', 'Cruise', 'Sound']\n",
      "0.2093 ['Mileage', 'Cruise']\n",
      "0.2084 ['Doors', 'Cruise', 'Sound']\n",
      "0.1996 ['Doors', 'Cruise']\n",
      "0.1929 ['Cruise', 'Sound']\n",
      "0.1856 ['Cruise']\n",
      "0.0893 ['Mileage', 'Doors', 'Sound', 'Leather']\n",
      "0.0697 ['Mileage', 'Sound', 'Leather']\n",
      "0.0669 ['Doors', 'Sound', 'Leather']\n",
      "0.0626 ['Mileage', 'Doors', 'Leather']\n",
      "0.0593 ['Mileage', 'Doors', 'Sound']\n",
      "0.0480 ['Sound', 'Leather']\n",
      "0.0452 ['Mileage', 'Leather']\n",
      "0.0414 ['Doors', 'Leather']\n",
      "0.0404 ['Mileage', 'Doors']\n",
      "0.0370 ['Doors', 'Sound']\n",
      "0.0369 ['Mileage', 'Sound']\n",
      "0.0247 ['Leather']\n",
      "0.0205 ['Mileage']\n",
      "0.0193 ['Doors']\n",
      "0.0155 ['Sound']\n"
     ]
    }
   ],
   "source": [
    "for x in sort_score[:]:\n",
    "    print(str(round(x[1].score(np.array(df[x[0]]), np.array(df[['Price']])), 4)).ljust(6, '0'), x[0])\n",
    "\n"
   ]
  },
  {
   "cell_type": "code",
   "execution_count": null,
   "metadata": {
    "collapsed": true
   },
   "outputs": [],
   "source": []
  },
  {
   "cell_type": "markdown",
   "metadata": {},
   "source": [
    "## Part 3"
   ]
  },
  {
   "cell_type": "code",
   "execution_count": 33,
   "metadata": {
    "collapsed": false
   },
   "outputs": [],
   "source": [
    "df3 = df\n",
    "for col in df3.columns[2:6]:\n",
    "    for attr in df3[col].unique():\n",
    "        df3[attr] = [int(x == attr) for x in df3[col]]\n",
    "    del df3[col]"
   ]
  },
  {
   "cell_type": "code",
   "execution_count": 39,
   "metadata": {
    "collapsed": false
   },
   "outputs": [],
   "source": [
    "regr= [linear_model.LinearRegression() \\\n",
    "       .fit(np.array(df3[[cols]]), np.array(df[['Price']]))\n",
    "         for cols in df3.columns[1:]]\n",
    "sortscore= sorted(list(zip(df3.columns[1:], regr)), key=lambda x: \n",
    "                    x[1].score(np.array(df3[[x[0]]]), \n",
    "                               np.array(df3[['Price']])), reverse=True)\n"
   ]
  },
  {
   "cell_type": "code",
   "execution_count": 41,
   "metadata": {
    "collapsed": false
   },
   "outputs": [
    {
     "ename": "TypeError",
     "evalue": "unhashable type: 'list'",
     "output_type": "error",
     "traceback": [
      "\u001b[0;31m---------------------------------------------------------------------------\u001b[0m",
      "\u001b[0;31mTypeError\u001b[0m                                 Traceback (most recent call last)",
      "\u001b[0;32m<ipython-input-41-a5a1e6116513>\u001b[0m in \u001b[0;36m<module>\u001b[0;34m()\u001b[0m\n\u001b[1;32m      1\u001b[0m \u001b[0;32mfor\u001b[0m \u001b[0mx\u001b[0m \u001b[0;32min\u001b[0m \u001b[0mscore_sort\u001b[0m\u001b[0;34m[\u001b[0m\u001b[0;34m:\u001b[0m\u001b[0;36m10\u001b[0m\u001b[0;34m]\u001b[0m\u001b[0;34m:\u001b[0m\u001b[0;34m\u001b[0m\u001b[0m\n\u001b[0;32m----> 2\u001b[0;31m     \u001b[0mprint\u001b[0m\u001b[0;34m(\u001b[0m\u001b[0mstr\u001b[0m\u001b[0;34m(\u001b[0m\u001b[0mround\u001b[0m\u001b[0;34m(\u001b[0m\u001b[0mx\u001b[0m\u001b[0;34m[\u001b[0m\u001b[0;36m1\u001b[0m\u001b[0;34m]\u001b[0m\u001b[0;34m.\u001b[0m\u001b[0mscore\u001b[0m\u001b[0;34m(\u001b[0m\u001b[0mnp\u001b[0m\u001b[0;34m.\u001b[0m\u001b[0marray\u001b[0m\u001b[0;34m(\u001b[0m\u001b[0mdf\u001b[0m\u001b[0;34m[\u001b[0m\u001b[0;34m[\u001b[0m\u001b[0mx\u001b[0m\u001b[0;34m[\u001b[0m\u001b[0;36m0\u001b[0m\u001b[0;34m]\u001b[0m\u001b[0;34m]\u001b[0m\u001b[0;34m]\u001b[0m\u001b[0;34m)\u001b[0m\u001b[0;34m,\u001b[0m \u001b[0mnp\u001b[0m\u001b[0;34m.\u001b[0m\u001b[0marray\u001b[0m\u001b[0;34m(\u001b[0m\u001b[0mdf3\u001b[0m\u001b[0;34m[\u001b[0m\u001b[0;34m[\u001b[0m\u001b[0;34m'Price'\u001b[0m\u001b[0;34m]\u001b[0m\u001b[0;34m]\u001b[0m\u001b[0;34m)\u001b[0m\u001b[0;34m)\u001b[0m\u001b[0;34m,\u001b[0m \u001b[0;36m4\u001b[0m\u001b[0;34m)\u001b[0m\u001b[0;34m)\u001b[0m\u001b[0;34m.\u001b[0m\u001b[0mljust\u001b[0m\u001b[0;34m(\u001b[0m\u001b[0;36m6\u001b[0m\u001b[0;34m,\u001b[0m \u001b[0;34m'0'\u001b[0m\u001b[0;34m)\u001b[0m\u001b[0;34m,\u001b[0m \u001b[0mx\u001b[0m\u001b[0;34m[\u001b[0m\u001b[0;36m0\u001b[0m\u001b[0;34m]\u001b[0m\u001b[0;34m)\u001b[0m\u001b[0;34m\u001b[0m\u001b[0m\n\u001b[0m",
      "\u001b[0;32m/Users/FANTICKLE/documents/assignments/18--Plaid-Coat/.direnv/python-3.4.3/lib/python3.4/site-packages/pandas/core/frame.py\u001b[0m in \u001b[0;36m__getitem__\u001b[0;34m(self, key)\u001b[0m\n\u001b[1;32m   1789\u001b[0m         \u001b[0;32mif\u001b[0m \u001b[0misinstance\u001b[0m\u001b[0;34m(\u001b[0m\u001b[0mkey\u001b[0m\u001b[0;34m,\u001b[0m \u001b[0;34m(\u001b[0m\u001b[0mSeries\u001b[0m\u001b[0;34m,\u001b[0m \u001b[0mnp\u001b[0m\u001b[0;34m.\u001b[0m\u001b[0mndarray\u001b[0m\u001b[0;34m,\u001b[0m \u001b[0mIndex\u001b[0m\u001b[0;34m,\u001b[0m \u001b[0mlist\u001b[0m\u001b[0;34m)\u001b[0m\u001b[0;34m)\u001b[0m\u001b[0;34m:\u001b[0m\u001b[0;34m\u001b[0m\u001b[0m\n\u001b[1;32m   1790\u001b[0m             \u001b[0;31m# either boolean or fancy integer index\u001b[0m\u001b[0;34m\u001b[0m\u001b[0;34m\u001b[0m\u001b[0m\n\u001b[0;32m-> 1791\u001b[0;31m             \u001b[0;32mreturn\u001b[0m \u001b[0mself\u001b[0m\u001b[0;34m.\u001b[0m\u001b[0m_getitem_array\u001b[0m\u001b[0;34m(\u001b[0m\u001b[0mkey\u001b[0m\u001b[0;34m)\u001b[0m\u001b[0;34m\u001b[0m\u001b[0m\n\u001b[0m\u001b[1;32m   1792\u001b[0m         \u001b[0;32melif\u001b[0m \u001b[0misinstance\u001b[0m\u001b[0;34m(\u001b[0m\u001b[0mkey\u001b[0m\u001b[0;34m,\u001b[0m \u001b[0mDataFrame\u001b[0m\u001b[0;34m)\u001b[0m\u001b[0;34m:\u001b[0m\u001b[0;34m\u001b[0m\u001b[0m\n\u001b[1;32m   1793\u001b[0m             \u001b[0;32mreturn\u001b[0m \u001b[0mself\u001b[0m\u001b[0;34m.\u001b[0m\u001b[0m_getitem_frame\u001b[0m\u001b[0;34m(\u001b[0m\u001b[0mkey\u001b[0m\u001b[0;34m)\u001b[0m\u001b[0;34m\u001b[0m\u001b[0m\n",
      "\u001b[0;32m/Users/FANTICKLE/documents/assignments/18--Plaid-Coat/.direnv/python-3.4.3/lib/python3.4/site-packages/pandas/core/frame.py\u001b[0m in \u001b[0;36m_getitem_array\u001b[0;34m(self, key)\u001b[0m\n\u001b[1;32m   1833\u001b[0m             \u001b[0;32mreturn\u001b[0m \u001b[0mself\u001b[0m\u001b[0;34m.\u001b[0m\u001b[0mtake\u001b[0m\u001b[0;34m(\u001b[0m\u001b[0mindexer\u001b[0m\u001b[0;34m,\u001b[0m \u001b[0maxis\u001b[0m\u001b[0;34m=\u001b[0m\u001b[0;36m0\u001b[0m\u001b[0;34m,\u001b[0m \u001b[0mconvert\u001b[0m\u001b[0;34m=\u001b[0m\u001b[0;32mFalse\u001b[0m\u001b[0;34m)\u001b[0m\u001b[0;34m\u001b[0m\u001b[0m\n\u001b[1;32m   1834\u001b[0m         \u001b[0;32melse\u001b[0m\u001b[0;34m:\u001b[0m\u001b[0;34m\u001b[0m\u001b[0m\n\u001b[0;32m-> 1835\u001b[0;31m             \u001b[0mindexer\u001b[0m \u001b[0;34m=\u001b[0m \u001b[0mself\u001b[0m\u001b[0;34m.\u001b[0m\u001b[0mix\u001b[0m\u001b[0;34m.\u001b[0m\u001b[0m_convert_to_indexer\u001b[0m\u001b[0;34m(\u001b[0m\u001b[0mkey\u001b[0m\u001b[0;34m,\u001b[0m \u001b[0maxis\u001b[0m\u001b[0;34m=\u001b[0m\u001b[0;36m1\u001b[0m\u001b[0;34m)\u001b[0m\u001b[0;34m\u001b[0m\u001b[0m\n\u001b[0m\u001b[1;32m   1836\u001b[0m             \u001b[0;32mreturn\u001b[0m \u001b[0mself\u001b[0m\u001b[0;34m.\u001b[0m\u001b[0mtake\u001b[0m\u001b[0;34m(\u001b[0m\u001b[0mindexer\u001b[0m\u001b[0;34m,\u001b[0m \u001b[0maxis\u001b[0m\u001b[0;34m=\u001b[0m\u001b[0;36m1\u001b[0m\u001b[0;34m,\u001b[0m \u001b[0mconvert\u001b[0m\u001b[0;34m=\u001b[0m\u001b[0;32mTrue\u001b[0m\u001b[0;34m)\u001b[0m\u001b[0;34m\u001b[0m\u001b[0m\n\u001b[1;32m   1837\u001b[0m \u001b[0;34m\u001b[0m\u001b[0m\n",
      "\u001b[0;32m/Users/FANTICKLE/documents/assignments/18--Plaid-Coat/.direnv/python-3.4.3/lib/python3.4/site-packages/pandas/core/indexing.py\u001b[0m in \u001b[0;36m_convert_to_indexer\u001b[0;34m(self, obj, axis, is_setter)\u001b[0m\n\u001b[1;32m   1100\u001b[0m                     \u001b[0;31m# unique index\u001b[0m\u001b[0;34m\u001b[0m\u001b[0;34m\u001b[0m\u001b[0m\n\u001b[1;32m   1101\u001b[0m                     \u001b[0;32mif\u001b[0m \u001b[0mlabels\u001b[0m\u001b[0;34m.\u001b[0m\u001b[0mis_unique\u001b[0m\u001b[0;34m:\u001b[0m\u001b[0;34m\u001b[0m\u001b[0m\n\u001b[0;32m-> 1102\u001b[0;31m                         \u001b[0mindexer\u001b[0m \u001b[0;34m=\u001b[0m \u001b[0mcheck\u001b[0m \u001b[0;34m=\u001b[0m \u001b[0mlabels\u001b[0m\u001b[0;34m.\u001b[0m\u001b[0mget_indexer\u001b[0m\u001b[0;34m(\u001b[0m\u001b[0mobjarr\u001b[0m\u001b[0;34m)\u001b[0m\u001b[0;34m\u001b[0m\u001b[0m\n\u001b[0m\u001b[1;32m   1103\u001b[0m \u001b[0;34m\u001b[0m\u001b[0m\n\u001b[1;32m   1104\u001b[0m                     \u001b[0;31m# non-unique (dups)\u001b[0m\u001b[0;34m\u001b[0m\u001b[0;34m\u001b[0m\u001b[0m\n",
      "\u001b[0;32m/Users/FANTICKLE/documents/assignments/18--Plaid-Coat/.direnv/python-3.4.3/lib/python3.4/site-packages/pandas/core/index.py\u001b[0m in \u001b[0;36mget_indexer\u001b[0;34m(self, target, method, limit)\u001b[0m\n\u001b[1;32m   1693\u001b[0m             \u001b[0mindexer\u001b[0m \u001b[0;34m=\u001b[0m \u001b[0mself\u001b[0m\u001b[0;34m.\u001b[0m\u001b[0m_get_nearest_indexer\u001b[0m\u001b[0;34m(\u001b[0m\u001b[0mtarget\u001b[0m\u001b[0;34m,\u001b[0m \u001b[0mlimit\u001b[0m\u001b[0;34m)\u001b[0m\u001b[0;34m\u001b[0m\u001b[0m\n\u001b[1;32m   1694\u001b[0m         \u001b[0;32melse\u001b[0m\u001b[0;34m:\u001b[0m\u001b[0;34m\u001b[0m\u001b[0m\n\u001b[0;32m-> 1695\u001b[0;31m             \u001b[0mindexer\u001b[0m \u001b[0;34m=\u001b[0m \u001b[0mself\u001b[0m\u001b[0;34m.\u001b[0m\u001b[0m_engine\u001b[0m\u001b[0;34m.\u001b[0m\u001b[0mget_indexer\u001b[0m\u001b[0;34m(\u001b[0m\u001b[0mtarget\u001b[0m\u001b[0;34m.\u001b[0m\u001b[0mvalues\u001b[0m\u001b[0;34m)\u001b[0m\u001b[0;34m\u001b[0m\u001b[0m\n\u001b[0m\u001b[1;32m   1696\u001b[0m \u001b[0;34m\u001b[0m\u001b[0m\n\u001b[1;32m   1697\u001b[0m         \u001b[0;32mreturn\u001b[0m \u001b[0mcom\u001b[0m\u001b[0;34m.\u001b[0m\u001b[0m_ensure_platform_int\u001b[0m\u001b[0;34m(\u001b[0m\u001b[0mindexer\u001b[0m\u001b[0;34m)\u001b[0m\u001b[0;34m\u001b[0m\u001b[0m\n",
      "\u001b[0;32mpandas/index.pyx\u001b[0m in \u001b[0;36mpandas.index.IndexEngine.get_indexer (pandas/index.c:5646)\u001b[0;34m()\u001b[0m\n",
      "\u001b[0;32mpandas/hashtable.pyx\u001b[0m in \u001b[0;36mpandas.hashtable.PyObjectHashTable.lookup (pandas/hashtable.c:13170)\u001b[0;34m()\u001b[0m\n",
      "\u001b[0;31mTypeError\u001b[0m: unhashable type: 'list'"
     ]
    }
   ],
   "source": [
    "for x in score_sort[:10]:\n",
    "    print(str(round(x[1].score(np.array(df[[x[0]]]), np.array(df3[['Price']])), 4)).ljust(6, '0'), x[0])"
   ]
  },
  {
   "cell_type": "code",
   "execution_count": null,
   "metadata": {
    "collapsed": true
   },
   "outputs": [],
   "source": []
  }
 ],
 "metadata": {
  "kernelspec": {
   "display_name": "Python 3",
   "language": "python",
   "name": "python3"
  },
  "language_info": {
   "codemirror_mode": {
    "name": "ipython",
    "version": 3
   },
   "file_extension": ".py",
   "mimetype": "text/x-python",
   "name": "python",
   "nbconvert_exporter": "python",
   "pygments_lexer": "ipython3",
   "version": "3.4.3"
  }
 },
 "nbformat": 4,
 "nbformat_minor": 0
}
